{
 "cells": [
  {
   "cell_type": "code",
   "execution_count": 11,
   "id": "initial_id",
   "metadata": {
    "collapsed": true,
    "ExecuteTime": {
     "end_time": "2024-04-23T18:44:01.236297Z",
     "start_time": "2024-04-23T18:44:01.230771Z"
    }
   },
   "outputs": [
    {
     "name": "stdout",
     "output_type": "stream",
     "text": [
      "before j loop is 1\n",
      "j is  50\n",
      "j is  68\n",
      "j is  86\n",
      "before j loop is 2\n",
      "j is  50\n",
      "j is  68\n",
      "j is  86\n",
      "before j loop is 3\n",
      "j is  50\n",
      "j is  68\n",
      "j is  86\n"
     ]
    }
   ],
   "source": [
    "for i in [1,2,3]:\n",
    "    print(\"before j loop is\", i)\n",
    "    for j in range(50,100,18):\n",
    "        print(\"j is \",j)"
   ]
  },
  {
   "cell_type": "code",
   "execution_count": 14,
   "outputs": [
    {
     "name": "stdout",
     "output_type": "stream",
     "text": [
      "24\n",
      "27\n",
      "30\n",
      "33\n",
      "36\n"
     ]
    }
   ],
   "source": [
    "for value in [1,3,5]:\n",
    "    print(value + value ** 2)"
   ],
   "metadata": {
    "collapsed": false,
    "ExecuteTime": {
     "end_time": "2024-04-23T18:52:43.466143Z",
     "start_time": "2024-04-23T18:52:43.463041Z"
    }
   },
   "id": "65db7e057a658842"
  },
  {
   "cell_type": "code",
   "execution_count": null,
   "outputs": [],
   "source": [
    "for value in range(8,13):\n",
    "    print(value * 3)"
   ],
   "metadata": {
    "collapsed": false
   },
   "id": "5cd8f296f852f510"
  },
  {
   "cell_type": "markdown",
   "source": [],
   "metadata": {
    "collapsed": false
   },
   "id": "5ab688ce12f87cb9"
  },
  {
   "cell_type": "code",
   "execution_count": 18,
   "outputs": [
    {
     "name": "stdout",
     "output_type": "stream",
     "text": [
      "5\n"
     ]
    }
   ],
   "source": [
    "words = [\"hello\",\"world\",\"python\",\"yellow\"]\n",
    "l_count = 0\n",
    "for mot in words:\n",
    "    for char in mot:\n",
    "        if char == 'l':\n",
    "            l_count = l_count + 1\n",
    "    \n",
    "print(l_count)"
   ],
   "metadata": {
    "collapsed": false,
    "ExecuteTime": {
     "end_time": "2024-04-23T19:05:38.646552Z",
     "start_time": "2024-04-23T19:05:38.640954Z"
    }
   },
   "id": "efb9e14fcba557ca"
  },
  {
   "cell_type": "code",
   "execution_count": 21,
   "outputs": [
    {
     "name": "stdout",
     "output_type": "stream",
     "text": [
      "3 ont moins de 20 ans\n",
      "4 ont entre 20 et 29 ans\n",
      "1 ont plus de 30 ans\n"
     ]
    }
   ],
   "source": [
    "ages = [20,21,20,22,19,18,14,35]\n",
    "moin20 = 0\n",
    "a2029=0\n",
    "p30=0\n",
    "for age in ages:\n",
    "    if age < 20:\n",
    "        moin20 = moin20 + 1\n",
    "    elif 20 <= age <= 29:\n",
    "        a2029 = a2029 + 1\n",
    "    else:\n",
    "        p30 = p30 + 1\n",
    "print(str(moin20)+\" ont moins de 20 ans\")\n",
    "print(str(a2029)+\" ont entre 20 et 29 ans\")\n",
    "print(str(p30)+\" ont plus de 30 ans\")"
   ],
   "metadata": {
    "collapsed": false,
    "ExecuteTime": {
     "end_time": "2024-04-23T19:27:30.014747Z",
     "start_time": "2024-04-23T19:27:30.011839Z"
    }
   },
   "id": "6c780ebef6795c11"
  },
  {
   "cell_type": "code",
   "execution_count": 42,
   "outputs": [
    {
     "name": "stdout",
     "output_type": "stream",
     "text": [
      "[1, 2, 3, 5, 6, 7, 8, 9, 10, 11, 12, 13, 14, 15, 16, 17, 18, 19, 20, 25, 26, 21, 22, 23, 24, 25, 26]\n"
     ]
    }
   ],
   "source": [
    "l1= [1,2,3,4]\n",
    "l2=[10,12]\n",
    "l3= [21,22,23,24]\n",
    "l4=[13,14,15]\n",
    "l5=[16,17,18,19,20,25,26]\n",
    "l6=[9,8,7,6,5]\n",
    "l7=[11]\n",
    "\n",
    "l6.reverse()\n",
    "l2.insert(1,l7[0])\n",
    "l1[3:]=l6\n",
    "\n",
    "l1[8:]=l2\n",
    "l1[13:] = l4\n",
    "l3[4:5]=l5[5:]\n",
    "l5[19:]=l3\n",
    "l1[14:]=l5\n",
    "\n",
    "print(l1)\n"
   ],
   "metadata": {
    "collapsed": false,
    "ExecuteTime": {
     "end_time": "2024-04-23T21:02:32.182228Z",
     "start_time": "2024-04-23T21:02:32.177814Z"
    }
   },
   "id": "8b7f5a41e5cd50d0"
  },
  {
   "cell_type": "code",
   "execution_count": 22,
   "outputs": [],
   "source": [],
   "metadata": {
    "collapsed": false,
    "ExecuteTime": {
     "end_time": "2024-04-23T20:47:22.893693Z",
     "start_time": "2024-04-23T20:47:22.888661Z"
    }
   },
   "id": "9c2cce01d6df3a9"
  },
  {
   "cell_type": "code",
   "execution_count": null,
   "outputs": [],
   "source": [],
   "metadata": {
    "collapsed": false
   },
   "id": "83579840111f3e1"
  }
 ],
 "metadata": {
  "kernelspec": {
   "display_name": "Python 3",
   "language": "python",
   "name": "python3"
  },
  "language_info": {
   "codemirror_mode": {
    "name": "ipython",
    "version": 2
   },
   "file_extension": ".py",
   "mimetype": "text/x-python",
   "name": "python",
   "nbconvert_exporter": "python",
   "pygments_lexer": "ipython2",
   "version": "2.7.6"
  }
 },
 "nbformat": 4,
 "nbformat_minor": 5
}
